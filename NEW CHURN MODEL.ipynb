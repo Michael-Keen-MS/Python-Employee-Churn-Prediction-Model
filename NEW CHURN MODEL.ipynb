{
 "cells": [
  {
   "cell_type": "code",
   "execution_count": 1,
   "metadata": {},
   "outputs": [],
   "source": [
    "import pandas as pd\n",
    "import numpy as np\n",
    "from sklearn.ensemble import RandomForestClassifier\n",
    "from sklearn.model_selection import train_test_split\n",
    "from sklearn.metrics import accuracy_score\n",
    "import datetime\n",
    "import math\n",
    "\n",
    "import seaborn as sns\n",
    "from matplotlib import pyplot\n",
    "import matplotlib.pyplot as plt\n",
    "import matplotlib.pylab as pylab\n",
    "import matplotlib"
   ]
  },
  {
   "cell_type": "code",
   "execution_count": 2,
   "metadata": {},
   "outputs": [],
   "source": [
    "def is_nan_or_nat(value):\n",
    "#   \"\"\"Returns True if the value is NaN or NaT, False otherwise.\"\"\"\n",
    "    return np.isnat(value)"
   ]
  },
  {
   "cell_type": "code",
   "execution_count": 3,
   "metadata": {},
   "outputs": [],
   "source": [
    "def convert_categorical_variables(combo_df):\n",
    "#   \"\"\"Converts categorical variables in a dataframe to normalized or indexed values.\n",
    "\n",
    "#   Args:\n",
    "#     combo_df: The Pandas dataframe to convert the categorical variables in.\n",
    "\n",
    "#   Returns:\n",
    "#     A Pandas dataframe with the categorical variables converted to normalized or indexed values.\n",
    "#   \"\"\"\n",
    "\n",
    "    for column in combo_df:\n",
    "        if not combo_df[column].dtype.name.startswith('int'):\n",
    "            unique_values = combo_df[column].unique()\n",
    "\n",
    "            if len(unique_values) <= 60:\n",
    "                combo_df[column] = pd.Categorical(combo_df[column])\n",
    "                combo_df[column] = combo_df[column].cat.codes\n",
    "            else:\n",
    "                combo_df[column] = pd.to_numeric(combo_df[column], errors='coerce')\n",
    "                combo_df[column] = (combo_df[column] - combo_df[column].mean()) / combo_df[column].std()\n",
    "\n",
    "    return combo_df"
   ]
  },
  {
   "cell_type": "code",
   "execution_count": 4,
   "metadata": {},
   "outputs": [],
   "source": [
    "def is_date(value):\n",
    "    try:\n",
    "        datetime.datetime.strptime(value, '%Y-%m-%d')\n",
    "        return True\n",
    "    except ValueError:\n",
    "        return False"
   ]
  },
  {
   "cell_type": "code",
   "execution_count": 5,
   "metadata": {},
   "outputs": [
    {
     "name": "stdout",
     "output_type": "stream",
     "text": [
      "Shape of dataframe is: (2001, 20)\n"
     ]
    }
   ],
   "source": [
    "# Read Excel file\n",
    "df_sourcefile = pd.read_excel(\n",
    "    'C:\\\\Users\\\\Michael\\\\Documents\\\\CASE STUDY CHURN PREDICTION\\\\EMPLOYEE MAIN FILE.xlsm', sheet_name=0)\n",
    "print(\"Shape of dataframe is: {}\".format(df_sourcefile.shape))"
   ]
  },
  {
   "cell_type": "code",
   "execution_count": 6,
   "metadata": {},
   "outputs": [],
   "source": [
    "# Make a copy of the original sourcefile\n",
    "df_HR1 = df_sourcefile.copy()"
   ]
  },
  {
   "cell_type": "code",
   "execution_count": 7,
   "metadata": {},
   "outputs": [
    {
     "name": "stdout",
     "output_type": "stream",
     "text": [
      "Shape of dataframe is: (8486, 3)\n"
     ]
    }
   ],
   "source": [
    "df_sourcefile = pd.read_excel(\n",
    "    'C:\\\\Users\\\\Michael\\\\Documents\\\\CASE STUDY CHURN PREDICTION\\\\EMPLOYEE PERFORMANCE EVALS.xlsm', sheet_name=0)\n",
    "print(\"Shape of dataframe is: {}\".format(df_sourcefile.shape))"
   ]
  },
  {
   "cell_type": "code",
   "execution_count": 8,
   "metadata": {},
   "outputs": [],
   "source": [
    "# Make a copy of the original sourcefile\n",
    "df_HR2 = df_sourcefile.copy()"
   ]
  },
  {
   "cell_type": "code",
   "execution_count": 9,
   "metadata": {},
   "outputs": [
    {
     "name": "stdout",
     "output_type": "stream",
     "text": [
      "Shape of dataframe is: (8004, 4)\n"
     ]
    }
   ],
   "source": [
    "df_sourcefile = pd.read_excel(\n",
    "    'C:\\\\Users\\\\Michael\\\\Documents\\\\CASE STUDY CHURN PREDICTION\\\\EMPLOYEE WORKPLACE SAT SCORES.xlsm', sheet_name=0)\n",
    "print(\"Shape of dataframe is: {}\".format(df_sourcefile.shape))"
   ]
  },
  {
   "cell_type": "code",
   "execution_count": 10,
   "metadata": {},
   "outputs": [],
   "source": [
    "# Make a copy of the original sourcefile\n",
    "df_HR3 = df_sourcefile.copy()"
   ]
  },
  {
   "cell_type": "code",
   "execution_count": 11,
   "metadata": {},
   "outputs": [],
   "source": [
    "# df_HR1.head()"
   ]
  },
  {
   "cell_type": "code",
   "execution_count": 12,
   "metadata": {},
   "outputs": [],
   "source": [
    "# df_HR2.head()"
   ]
  },
  {
   "cell_type": "code",
   "execution_count": 13,
   "metadata": {},
   "outputs": [],
   "source": [
    "# df_HR3.head()"
   ]
  },
  {
   "cell_type": "code",
   "execution_count": 14,
   "metadata": {},
   "outputs": [],
   "source": [
    "combo_df_step = df_HR1.merge(df_HR2, on='EmployeeId', how='left')"
   ]
  },
  {
   "cell_type": "code",
   "execution_count": 15,
   "metadata": {
    "scrolled": true
   },
   "outputs": [],
   "source": [
    "# combo_df_step.head(50)"
   ]
  },
  {
   "cell_type": "code",
   "execution_count": 16,
   "metadata": {},
   "outputs": [],
   "source": [
    "combo_df= combo_df_step.merge(df_HR3, on='EmployeeId', how='left')"
   ]
  },
  {
   "cell_type": "code",
   "execution_count": 17,
   "metadata": {},
   "outputs": [],
   "source": [
    "# Dataset columns\n",
    "# combo_df.columns"
   ]
  },
  {
   "cell_type": "code",
   "execution_count": 18,
   "metadata": {
    "scrolled": true
   },
   "outputs": [],
   "source": [
    "# Dataset header\n",
    "# combo_df.head(50)"
   ]
  },
  {
   "cell_type": "code",
   "execution_count": 19,
   "metadata": {},
   "outputs": [],
   "source": [
    "combo_df[\"EmploymentEndDate\"] = pd.to_datetime(combo_df['EmploymentEndDate'], errors='coerce').dt.strftime('%Y-%m-%d')"
   ]
  },
  {
   "cell_type": "code",
   "execution_count": 20,
   "metadata": {},
   "outputs": [],
   "source": [
    "combo_df[\"EmploymentStartDate\"] = pd.to_datetime(combo_df['EmploymentStartDate'], errors='coerce').dt.strftime('%Y-%m-%d')"
   ]
  },
  {
   "cell_type": "code",
   "execution_count": 21,
   "metadata": {},
   "outputs": [],
   "source": [
    "combo_df[\"ReviewDate\"] = pd.to_datetime(combo_df['ReviewDate'], errors='coerce').dt.strftime('%Y-%m-%d')"
   ]
  },
  {
   "cell_type": "code",
   "execution_count": 22,
   "metadata": {},
   "outputs": [],
   "source": [
    "# print(combo_df[\"EmploymentEndDate\"].unique())"
   ]
  },
  {
   "cell_type": "code",
   "execution_count": 23,
   "metadata": {
    "scrolled": true
   },
   "outputs": [],
   "source": [
    "# Columns datatypes and missign values\n",
    "# combo_df.info()"
   ]
  },
  {
   "cell_type": "code",
   "execution_count": 24,
   "metadata": {},
   "outputs": [],
   "source": [
    "combo_df[\"ATTRITION\"] = np.where(combo_df[\"EmploymentEndDate\"].isnull(), 0, 1)"
   ]
  },
  {
   "cell_type": "code",
   "execution_count": 25,
   "metadata": {},
   "outputs": [
    {
     "name": "stdout",
     "output_type": "stream",
     "text": [
      "[0 1]\n"
     ]
    }
   ],
   "source": [
    "print(combo_df[\"ATTRITION\"].unique())"
   ]
  },
  {
   "cell_type": "code",
   "execution_count": 26,
   "metadata": {
    "scrolled": true
   },
   "outputs": [],
   "source": [
    "# Dataset header\n",
    "# combo_df.head(50)"
   ]
  },
  {
   "cell_type": "code",
   "execution_count": 27,
   "metadata": {
    "scrolled": true
   },
   "outputs": [],
   "source": [
    "# Columns datatypes and missign values\n",
    "# combo_df.info()"
   ]
  },
  {
   "cell_type": "code",
   "execution_count": 28,
   "metadata": {},
   "outputs": [
    {
     "data": {
      "text/html": [
       "<div>\n",
       "<style scoped>\n",
       "    .dataframe tbody tr th:only-of-type {\n",
       "        vertical-align: middle;\n",
       "    }\n",
       "\n",
       "    .dataframe tbody tr th {\n",
       "        vertical-align: top;\n",
       "    }\n",
       "\n",
       "    .dataframe thead th {\n",
       "        text-align: right;\n",
       "    }\n",
       "</style>\n",
       "<table border=\"1\" class=\"dataframe\">\n",
       "  <thead>\n",
       "    <tr style=\"text-align: right;\">\n",
       "      <th></th>\n",
       "      <th>CommuteDistance</th>\n",
       "      <th>JobLevel</th>\n",
       "      <th>NumPreviousCompanies</th>\n",
       "      <th>NumYearsWorked</th>\n",
       "      <th>OvertimeDays</th>\n",
       "      <th>OvertimeHours</th>\n",
       "      <th>Salary</th>\n",
       "      <th>TrainingsAttended</th>\n",
       "      <th>WeeklyHoursBudgeted</th>\n",
       "      <th>YearOfBirth</th>\n",
       "      <th>PerformanceRating</th>\n",
       "      <th>ATTRITION</th>\n",
       "    </tr>\n",
       "  </thead>\n",
       "  <tbody>\n",
       "    <tr>\n",
       "      <th>count</th>\n",
       "      <td>18737.000000</td>\n",
       "      <td>18737.000000</td>\n",
       "      <td>13534.000000</td>\n",
       "      <td>18737.000000</td>\n",
       "      <td>18737.000000</td>\n",
       "      <td>18737.000000</td>\n",
       "      <td>18737.000000</td>\n",
       "      <td>18737.000000</td>\n",
       "      <td>18737.0</td>\n",
       "      <td>18737.000000</td>\n",
       "      <td>17993.000000</td>\n",
       "      <td>18737.000000</td>\n",
       "    </tr>\n",
       "    <tr>\n",
       "      <th>mean</th>\n",
       "      <td>9.614399</td>\n",
       "      <td>2.385707</td>\n",
       "      <td>1.802719</td>\n",
       "      <td>19.071836</td>\n",
       "      <td>3.808400</td>\n",
       "      <td>9.060735</td>\n",
       "      <td>77525.585739</td>\n",
       "      <td>1.382986</td>\n",
       "      <td>40.0</td>\n",
       "      <td>1976.451406</td>\n",
       "      <td>3.302395</td>\n",
       "      <td>0.461867</td>\n",
       "    </tr>\n",
       "    <tr>\n",
       "      <th>std</th>\n",
       "      <td>4.052054</td>\n",
       "      <td>1.118785</td>\n",
       "      <td>1.452905</td>\n",
       "      <td>9.548427</td>\n",
       "      <td>4.857679</td>\n",
       "      <td>7.667441</td>\n",
       "      <td>35700.375550</td>\n",
       "      <td>1.051962</td>\n",
       "      <td>0.0</td>\n",
       "      <td>9.538575</td>\n",
       "      <td>0.838891</td>\n",
       "      <td>0.498557</td>\n",
       "    </tr>\n",
       "    <tr>\n",
       "      <th>min</th>\n",
       "      <td>1.000000</td>\n",
       "      <td>1.000000</td>\n",
       "      <td>0.000000</td>\n",
       "      <td>1.000000</td>\n",
       "      <td>0.000000</td>\n",
       "      <td>0.000000</td>\n",
       "      <td>22700.000000</td>\n",
       "      <td>-1.000000</td>\n",
       "      <td>40.0</td>\n",
       "      <td>1949.000000</td>\n",
       "      <td>1.000000</td>\n",
       "      <td>0.000000</td>\n",
       "    </tr>\n",
       "    <tr>\n",
       "      <th>25%</th>\n",
       "      <td>7.000000</td>\n",
       "      <td>2.000000</td>\n",
       "      <td>1.000000</td>\n",
       "      <td>12.000000</td>\n",
       "      <td>1.000000</td>\n",
       "      <td>4.000000</td>\n",
       "      <td>51700.000000</td>\n",
       "      <td>1.000000</td>\n",
       "      <td>40.0</td>\n",
       "      <td>1970.000000</td>\n",
       "      <td>3.000000</td>\n",
       "      <td>0.000000</td>\n",
       "    </tr>\n",
       "    <tr>\n",
       "      <th>50%</th>\n",
       "      <td>9.000000</td>\n",
       "      <td>2.000000</td>\n",
       "      <td>2.000000</td>\n",
       "      <td>19.000000</td>\n",
       "      <td>2.000000</td>\n",
       "      <td>7.000000</td>\n",
       "      <td>69500.000000</td>\n",
       "      <td>1.000000</td>\n",
       "      <td>40.0</td>\n",
       "      <td>1977.000000</td>\n",
       "      <td>3.000000</td>\n",
       "      <td>0.000000</td>\n",
       "    </tr>\n",
       "    <tr>\n",
       "      <th>75%</th>\n",
       "      <td>13.000000</td>\n",
       "      <td>3.000000</td>\n",
       "      <td>3.000000</td>\n",
       "      <td>26.000000</td>\n",
       "      <td>5.000000</td>\n",
       "      <td>12.000000</td>\n",
       "      <td>94700.000000</td>\n",
       "      <td>2.000000</td>\n",
       "      <td>40.0</td>\n",
       "      <td>1984.000000</td>\n",
       "      <td>4.000000</td>\n",
       "      <td>1.000000</td>\n",
       "    </tr>\n",
       "    <tr>\n",
       "      <th>max</th>\n",
       "      <td>25.000000</td>\n",
       "      <td>5.000000</td>\n",
       "      <td>10.000000</td>\n",
       "      <td>49.000000</td>\n",
       "      <td>57.000000</td>\n",
       "      <td>78.000000</td>\n",
       "      <td>258300.000000</td>\n",
       "      <td>8.000000</td>\n",
       "      <td>40.0</td>\n",
       "      <td>1995.000000</td>\n",
       "      <td>5.000000</td>\n",
       "      <td>1.000000</td>\n",
       "    </tr>\n",
       "  </tbody>\n",
       "</table>\n",
       "</div>"
      ],
      "text/plain": [
       "       CommuteDistance      JobLevel  NumPreviousCompanies  NumYearsWorked  \\\n",
       "count     18737.000000  18737.000000          13534.000000    18737.000000   \n",
       "mean          9.614399      2.385707              1.802719       19.071836   \n",
       "std           4.052054      1.118785              1.452905        9.548427   \n",
       "min           1.000000      1.000000              0.000000        1.000000   \n",
       "25%           7.000000      2.000000              1.000000       12.000000   \n",
       "50%           9.000000      2.000000              2.000000       19.000000   \n",
       "75%          13.000000      3.000000              3.000000       26.000000   \n",
       "max          25.000000      5.000000             10.000000       49.000000   \n",
       "\n",
       "       OvertimeDays  OvertimeHours         Salary  TrainingsAttended  \\\n",
       "count  18737.000000   18737.000000   18737.000000       18737.000000   \n",
       "mean       3.808400       9.060735   77525.585739           1.382986   \n",
       "std        4.857679       7.667441   35700.375550           1.051962   \n",
       "min        0.000000       0.000000   22700.000000          -1.000000   \n",
       "25%        1.000000       4.000000   51700.000000           1.000000   \n",
       "50%        2.000000       7.000000   69500.000000           1.000000   \n",
       "75%        5.000000      12.000000   94700.000000           2.000000   \n",
       "max       57.000000      78.000000  258300.000000           8.000000   \n",
       "\n",
       "       WeeklyHoursBudgeted   YearOfBirth  PerformanceRating     ATTRITION  \n",
       "count              18737.0  18737.000000       17993.000000  18737.000000  \n",
       "mean                  40.0   1976.451406           3.302395      0.461867  \n",
       "std                    0.0      9.538575           0.838891      0.498557  \n",
       "min                   40.0   1949.000000           1.000000      0.000000  \n",
       "25%                   40.0   1970.000000           3.000000      0.000000  \n",
       "50%                   40.0   1977.000000           3.000000      0.000000  \n",
       "75%                   40.0   1984.000000           4.000000      1.000000  \n",
       "max                   40.0   1995.000000           5.000000      1.000000  "
      ]
     },
     "execution_count": 28,
     "metadata": {},
     "output_type": "execute_result"
    }
   ],
   "source": [
    "combo_df.describe()"
   ]
  },
  {
   "cell_type": "code",
   "execution_count": 29,
   "metadata": {},
   "outputs": [
    {
     "data": {
      "image/png": "[encoded data removed]",
      "text/plain": [
       "<Figure size 1440x1440 with 12 Axes>"
      ]
     },
     "metadata": {
      "needs_background": "light"
     },
     "output_type": "display_data"
    }
   ],
   "source": [
    "combo_df.hist(figsize=(20,20))\n",
    "plt.show()"
   ]
  },
  {
   "cell_type": "code",
   "execution_count": 30,
   "metadata": {},
   "outputs": [],
   "source": [
    "# normalized_df = normalize_non_numeric_values(combo_df) \n",
    "normalized_df = convert_categorical_variables(combo_df)"
   ]
  },
  {
   "cell_type": "code",
   "execution_count": 31,
   "metadata": {},
   "outputs": [],
   "source": [
    "# Dataset header\n",
    "# normalized_df.head()"
   ]
  },
  {
   "cell_type": "code",
   "execution_count": 32,
   "metadata": {},
   "outputs": [],
   "source": [
    "normalized_df[\"EmploymentEndDate\"] = normalized_df[\"EmploymentEndDate\"].replace(np.nan,0)\n",
    "normalized_df[\"EmploymentStartDate\"] = normalized_df[\"EmploymentStartDate\"].replace(np.nan,0)\n",
    "normalized_df[\"ReviewDate\"] = normalized_df[\"ReviewDate\"].replace(np.nan,0)"
   ]
  },
  {
   "cell_type": "code",
   "execution_count": 33,
   "metadata": {},
   "outputs": [],
   "source": [
    "# print(normalized_df['DegreeCompleted'].unique())"
   ]
  },
  {
   "cell_type": "code",
   "execution_count": 34,
   "metadata": {},
   "outputs": [],
   "source": [
    "# print(normalized_df['DegreeField'].unique())"
   ]
  },
  {
   "cell_type": "code",
   "execution_count": 35,
   "metadata": {},
   "outputs": [],
   "source": [
    "# print(normalized_df['Department'].unique())"
   ]
  },
  {
   "cell_type": "code",
   "execution_count": 36,
   "metadata": {},
   "outputs": [],
   "source": [
    "# print(normalized_df['Gender'].unique())"
   ]
  },
  {
   "cell_type": "code",
   "execution_count": 37,
   "metadata": {},
   "outputs": [],
   "source": [
    "# print(normalized_df['ATTRITION'].unique())"
   ]
  },
  {
   "cell_type": "code",
   "execution_count": 38,
   "metadata": {
    "scrolled": false
   },
   "outputs": [],
   "source": [
    "# Dataset header\n",
    "# normalized_df.head(250)"
   ]
  },
  {
   "cell_type": "code",
   "execution_count": 39,
   "metadata": {},
   "outputs": [],
   "source": [
    "# Create the target variable\n",
    "target = combo_df[\"ATTRITION\"]"
   ]
  },
  {
   "cell_type": "code",
   "execution_count": 40,
   "metadata": {},
   "outputs": [],
   "source": [
    "# Drop the target variable from the features\n",
    "features = combo_df.drop(\"ATTRITION\", axis=1)"
   ]
  },
  {
   "cell_type": "code",
   "execution_count": 41,
   "metadata": {},
   "outputs": [],
   "source": [
    "# Split the data into training and test sets\n",
    "X_train, X_test, y_train, y_test = train_test_split(features, target, test_size=0.25)"
   ]
  },
  {
   "cell_type": "code",
   "execution_count": 42,
   "metadata": {},
   "outputs": [],
   "source": [
    "# Create the random forest classifier\n",
    "clf = RandomForestClassifier(n_estimators=1000, random_state=42)"
   ]
  },
  {
   "cell_type": "code",
   "execution_count": 43,
   "metadata": {
    "scrolled": false
   },
   "outputs": [
    {
     "data": {
      "text/plain": [
       "RandomForestClassifier(n_estimators=1000, random_state=42)"
      ]
     },
     "execution_count": 43,
     "metadata": {},
     "output_type": "execute_result"
    }
   ],
   "source": [
    "# Fit the model to the training data\n",
    "clf.fit(X_train, y_train)"
   ]
  },
  {
   "cell_type": "code",
   "execution_count": 44,
   "metadata": {},
   "outputs": [],
   "source": [
    "# Predict the churn rate on the test data\n",
    "y_pred = clf.predict(X_test)"
   ]
  },
  {
   "cell_type": "code",
   "execution_count": 45,
   "metadata": {},
   "outputs": [],
   "source": [
    "# Calculate the accuracy of the model\n",
    "accuracy = accuracy_score(y_test, y_pred)"
   ]
  },
  {
   "cell_type": "code",
   "execution_count": 46,
   "metadata": {},
   "outputs": [
    {
     "name": "stdout",
     "output_type": "stream",
     "text": [
      "Accuracy: 1.0\n"
     ]
    }
   ],
   "source": [
    "print(\"Accuracy:\", accuracy)"
   ]
  },
  {
   "cell_type": "code",
   "execution_count": 47,
   "metadata": {
    "scrolled": false
   },
   "outputs": [
    {
     "name": "stdout",
     "output_type": "stream",
     "text": [
      "0.7009854444107109: EmploymentEndReason\n",
      "0.1783074760505963: NumPreviousCompanies\n",
      "0.020063238408498513: YearOfBirth\n",
      "0.01729467610548117: NumYearsWorked\n",
      "0.013554030971648959: Salary\n",
      "0.010040521242983477: EmployeeId\n",
      "0.009812055553104028: CommuteDistance\n",
      "0.008304116918375525: OvertimeHours\n",
      "0.007388698156655799: OvertimeDays\n",
      "0.005322285386530246: TravelFrequency\n",
      "0.004361296901580717: TrainingsAttended\n",
      "0.004118311698395848: JobLevel\n",
      "0.003880625741931433: Department\n",
      "0.0037088337664747057: DegreeField\n",
      "0.0031235921870913213: MaritalStatus\n",
      "0.0028080370599837864: DegreeCompleted\n",
      "0.0018127314176247672: Response\n",
      "0.001436000389638855: Gender\n",
      "0.0014272068373195424: PerformanceRating\n",
      "0.0011463596893362027: QuestionNum\n",
      "0.0011044611060379045: QuestionText\n",
      "0.0: EmploymentEndDate\n",
      "0.0: EmploymentStartDate\n",
      "0.0: WeeklyHoursBudgeted\n",
      "0.0: ReviewDate\n"
     ]
    }
   ],
   "source": [
    "# Print the most important features\n",
    "feature_importances = clf.feature_importances_\n",
    "sorted_features = sorted(zip(feature_importances, features.columns), key=lambda x: -x[0])\n",
    "for feature, importance in sorted_features:\n",
    "    print(f\"{feature}: {importance}\")"
   ]
  }
 ],
 "metadata": {
  "kernelspec": {
   "display_name": "Python 3",
   "language": "python",
   "name": "python3"
  },
  "language_info": {
   "codemirror_mode": {
    "name": "ipython",
    "version": 3
   },
   "file_extension": ".py",
   "mimetype": "text/x-python",
   "name": "python",
   "nbconvert_exporter": "python",
   "pygments_lexer": "ipython3",
   "version": "3.8.5"
  }
 },
 "nbformat": 4,
 "nbformat_minor": 4
}
